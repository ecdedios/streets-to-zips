{
 "cells": [
  {
   "cell_type": "markdown",
   "id": "confused-material",
   "metadata": {},
   "source": [
    "# Streets to Zips\n",
    "The purpose of this notebook is to get the zip codes for the corresponding street address using the MapQuest Search API.\n",
    "\n",
    "**Ednalyn C. De Dios**\\\n",
    "_Data Scientist_\n",
    "\n",
    "# Credits / References\n",
    "\n",
    "Codeup Ada One (Datathon team):\n",
    "\n",
    "- Dd (Ednalyn C. De Dios)\n",
    "- Joseph Burton\n",
    "- Sandy Graham\n",
    "\n",
    "MapQuest Search API:\\\n",
    "https://developer.mapquest.com/documentation/search-api/v2/postal-codes/\n",
    "\n",
    "Data Source:\\\n",
    "https://sites.google.com/respec.com/smartsa-datathon-2019/\n",
    "\n",
    "Github Repository (Datathon 2019):\\\n",
    "https://github.com/codeupada1/san-antonio-datathon-2019"
   ]
  },
  {
   "cell_type": "code",
   "execution_count": 37,
   "id": "altered-registrar",
   "metadata": {},
   "outputs": [],
   "source": [
    "# for manipulating dataframes\n",
    "import pandas as pd\n",
    "from pandas import DataFrame\n",
    "\n",
    "# For GET request from the Geocoding API\n",
    "from requests import get\n",
    "import json\n",
    "\n",
    "# There's a limit of 15,000 GET requests per day.\n",
    "# Sign up at https://developer.mapquest.com/documentation\n",
    "# to get another account and a new set of keys.\n",
    "# API_KEY = 'Zd5jr3WZm1PbGobgPDHzLz9LEFDaco1V' # This one has reached max limit.\n",
    "API_KEY = 'UjvBNaD5Wzqj4G2czUAWNakf7GjhvMEv'\n",
    "\n",
    "# to print out all the outputs\n",
    "from IPython.core.interactiveshell import InteractiveShell\n",
    "InteractiveShell.ast_node_interactivity = \"all\"\n",
    "\n",
    "# set display options\n",
    "pd.set_option('display.max_columns', None)\n",
    "pd.set_option('display.max_rows', None)\n",
    "pd.set_option('display.max_colwidth', None)\n",
    "\n",
    "# suppress all warnings\n",
    "import warnings\n",
    "warnings.filterwarnings('ignore')"
   ]
  },
  {
   "cell_type": "code",
   "execution_count": 6,
   "id": "spread-specification",
   "metadata": {},
   "outputs": [],
   "source": []
  },
  {
   "cell_type": "code",
   "execution_count": 8,
   "id": "minus-collapse",
   "metadata": {},
   "outputs": [
    {
     "data": {
      "text/plain": [
       "(3183, 57)"
      ]
     },
     "execution_count": 8,
     "metadata": {},
     "output_type": "execute_result"
    },
    {
     "data": {
      "text/html": [
       "<div>\n",
       "<style scoped>\n",
       "    .dataframe tbody tr th:only-of-type {\n",
       "        vertical-align: middle;\n",
       "    }\n",
       "\n",
       "    .dataframe tbody tr th {\n",
       "        vertical-align: top;\n",
       "    }\n",
       "\n",
       "    .dataframe thead th {\n",
       "        text-align: right;\n",
       "    }\n",
       "</style>\n",
       "<table border=\"1\" class=\"dataframe\">\n",
       "  <thead>\n",
       "    <tr style=\"text-align: right;\">\n",
       "      <th></th>\n",
       "      <th>SSO_ID</th>\n",
       "      <th>INSPKEY</th>\n",
       "      <th>SERVNO</th>\n",
       "      <th>REPORTDATE</th>\n",
       "      <th>SPILL_ADDRESS</th>\n",
       "      <th>SPILL_ST_NAME</th>\n",
       "      <th>TOTAL_GAL</th>\n",
       "      <th>GALSRET</th>\n",
       "      <th>GAL</th>\n",
       "      <th>SPILL_START</th>\n",
       "      <th>SPILL_STOP</th>\n",
       "      <th>HRS</th>\n",
       "      <th>CAUSE</th>\n",
       "      <th>COMMENTS</th>\n",
       "      <th>ACTIONS</th>\n",
       "      <th>WATERSHED</th>\n",
       "      <th>UNITID</th>\n",
       "      <th>UNITID2</th>\n",
       "      <th>DISCHARGE_TO</th>\n",
       "      <th>DISCHARGE_ROUTE</th>\n",
       "      <th>COUNCIL_DISTRICT</th>\n",
       "      <th>FERGUSON</th>\n",
       "      <th>Month</th>\n",
       "      <th>Year</th>\n",
       "      <th>Week</th>\n",
       "      <th>EARZ_ZONE</th>\n",
       "      <th>Expr1029</th>\n",
       "      <th>PIPEDIAM</th>\n",
       "      <th>PIPELEN</th>\n",
       "      <th>PIPETYPE</th>\n",
       "      <th>INSTYEAR</th>\n",
       "      <th>DWNDPTH</th>\n",
       "      <th>UPSDPTH</th>\n",
       "      <th>Inches_No</th>\n",
       "      <th>RainFall_Less3</th>\n",
       "      <th>SPILL ADDRESS</th>\n",
       "      <th>SewerAssetExp</th>\n",
       "      <th>NUM_SPILLS_COMPKEY</th>\n",
       "      <th>NUM_SPILLS_24MOS</th>\n",
       "      <th>PREVSPILL_24MOS</th>\n",
       "      <th>UNITTYPE</th>\n",
       "      <th>ASSETTYPE</th>\n",
       "      <th>LASTCLND</th>\n",
       "      <th>ResponseTime</th>\n",
       "      <th>ResponseDTTM</th>\n",
       "      <th>Public Notice</th>\n",
       "      <th>TIMEINT</th>\n",
       "      <th>Root_Cause</th>\n",
       "      <th>STEPS_TO_PREVENT</th>\n",
       "      <th>SPILL_START_2</th>\n",
       "      <th>SPILL_STOP_2</th>\n",
       "      <th>HRS_2</th>\n",
       "      <th>GAL_2</th>\n",
       "      <th>SPILL_START_3</th>\n",
       "      <th>SPILL_STOP_3</th>\n",
       "      <th>HRS_3</th>\n",
       "      <th>GAL_3</th>\n",
       "    </tr>\n",
       "  </thead>\n",
       "  <tbody>\n",
       "    <tr>\n",
       "      <th>0</th>\n",
       "      <td>6582</td>\n",
       "      <td>567722.0</td>\n",
       "      <td>NaN</td>\n",
       "      <td>2019-03-10</td>\n",
       "      <td>3200</td>\n",
       "      <td>THOUSAND OAKS DR</td>\n",
       "      <td>2100</td>\n",
       "      <td>2100.0</td>\n",
       "      <td>2100.0</td>\n",
       "      <td>3/10/2019 1:16:00 PM</td>\n",
       "      <td>3/10/2019 2:40:00 PM</td>\n",
       "      <td>1.400000</td>\n",
       "      <td>Grease</td>\n",
       "      <td>Spill ContainedReturned to SystemArea Cleaned and DisinfectedFlushed Area with H2O, Unstopped Main,</td>\n",
       "      <td>CLEANED MAIN</td>\n",
       "      <td>SALADO CREEK</td>\n",
       "      <td>66918</td>\n",
       "      <td>66917</td>\n",
       "      <td>STREET</td>\n",
       "      <td>None</td>\n",
       "      <td>NaN</td>\n",
       "      <td>172A2</td>\n",
       "      <td>3</td>\n",
       "      <td>2019</td>\n",
       "      <td>11</td>\n",
       "      <td>0.0</td>\n",
       "      <td>NaN</td>\n",
       "      <td>8.0</td>\n",
       "      <td>16.55</td>\n",
       "      <td>PVC</td>\n",
       "      <td>1997.0</td>\n",
       "      <td>NaN</td>\n",
       "      <td>NaN</td>\n",
       "      <td>NaN</td>\n",
       "      <td>NaN</td>\n",
       "      <td>3200 THOUSAND OAKS DR</td>\n",
       "      <td>NaT</td>\n",
       "      <td>1</td>\n",
       "      <td>1.0</td>\n",
       "      <td>NaT</td>\n",
       "      <td>GRAVITY</td>\n",
       "      <td>Sewer Main</td>\n",
       "      <td>NaT</td>\n",
       "      <td>0.450000</td>\n",
       "      <td>2019-03-10 13:43:00</td>\n",
       "      <td>False</td>\n",
       "      <td>24.0</td>\n",
       "      <td>NaN</td>\n",
       "      <td>NaN</td>\n",
       "      <td>NaN</td>\n",
       "      <td>NaN</td>\n",
       "      <td>0.00</td>\n",
       "      <td>0.0</td>\n",
       "      <td>NaN</td>\n",
       "      <td>NaN</td>\n",
       "      <td>0.0</td>\n",
       "      <td>0.0</td>\n",
       "    </tr>\n",
       "    <tr>\n",
       "      <th>1</th>\n",
       "      <td>6583</td>\n",
       "      <td>567723.0</td>\n",
       "      <td>NaN</td>\n",
       "      <td>2019-03-10</td>\n",
       "      <td>6804</td>\n",
       "      <td>S FLORES ST</td>\n",
       "      <td>80</td>\n",
       "      <td>0.0</td>\n",
       "      <td>80.0</td>\n",
       "      <td>3/10/2019 2:25:00 PM</td>\n",
       "      <td>3/10/2019 3:45:00 PM</td>\n",
       "      <td>1.333333</td>\n",
       "      <td>Grease</td>\n",
       "      <td>Spill ContainedArea Cleaned and Disinfected</td>\n",
       "      <td>CLEANED MAIN</td>\n",
       "      <td>DOS RIOS</td>\n",
       "      <td>24250</td>\n",
       "      <td>24193</td>\n",
       "      <td>STORMDRAIN</td>\n",
       "      <td>None</td>\n",
       "      <td>3.0</td>\n",
       "      <td>251A3</td>\n",
       "      <td>3</td>\n",
       "      <td>2019</td>\n",
       "      <td>11</td>\n",
       "      <td>0.0</td>\n",
       "      <td>NaN</td>\n",
       "      <td>8.0</td>\n",
       "      <td>157.00</td>\n",
       "      <td>PVC</td>\n",
       "      <td>1988.0</td>\n",
       "      <td>NaN</td>\n",
       "      <td>NaN</td>\n",
       "      <td>NaN</td>\n",
       "      <td>NaN</td>\n",
       "      <td>6804 S FLORES</td>\n",
       "      <td>NaT</td>\n",
       "      <td>1</td>\n",
       "      <td>1.0</td>\n",
       "      <td>NaT</td>\n",
       "      <td>GRAVITY</td>\n",
       "      <td>Sewer Main</td>\n",
       "      <td>NaT</td>\n",
       "      <td>1.083333</td>\n",
       "      <td>2019-03-10 15:30:00</td>\n",
       "      <td>False</td>\n",
       "      <td>120.0</td>\n",
       "      <td>NaN</td>\n",
       "      <td>NaN</td>\n",
       "      <td>NaN</td>\n",
       "      <td>NaN</td>\n",
       "      <td>0.00</td>\n",
       "      <td>0.0</td>\n",
       "      <td>NaN</td>\n",
       "      <td>NaN</td>\n",
       "      <td>0.0</td>\n",
       "      <td>0.0</td>\n",
       "    </tr>\n",
       "    <tr>\n",
       "      <th>2</th>\n",
       "      <td>6581</td>\n",
       "      <td>567714.0</td>\n",
       "      <td>NaN</td>\n",
       "      <td>2019-03-09</td>\n",
       "      <td>215</td>\n",
       "      <td>AUDREY ALENE DR</td>\n",
       "      <td>79</td>\n",
       "      <td>0.0</td>\n",
       "      <td>10.0</td>\n",
       "      <td>3/9/2019 6:00:00 PM</td>\n",
       "      <td>3/9/2019 7:30:00 PM</td>\n",
       "      <td>1.500000</td>\n",
       "      <td>Structural</td>\n",
       "      <td>Spill ContainedArea Cleaned and DisinfectedFlushed Area with H2O, Unstopped Main,</td>\n",
       "      <td>CLEANED MAIN</td>\n",
       "      <td>DOS RIOS</td>\n",
       "      <td>2822</td>\n",
       "      <td>3351</td>\n",
       "      <td>ALLEY</td>\n",
       "      <td>None</td>\n",
       "      <td>1.0</td>\n",
       "      <td>190E4</td>\n",
       "      <td>3</td>\n",
       "      <td>2019</td>\n",
       "      <td>10</td>\n",
       "      <td>0.0</td>\n",
       "      <td>NaN</td>\n",
       "      <td>8.0</td>\n",
       "      <td>350.00</td>\n",
       "      <td>CP</td>\n",
       "      <td>1955.0</td>\n",
       "      <td>NaN</td>\n",
       "      <td>NaN</td>\n",
       "      <td>NaN</td>\n",
       "      <td>NaN</td>\n",
       "      <td>215 Audrey Alene Dr</td>\n",
       "      <td>NaT</td>\n",
       "      <td>1</td>\n",
       "      <td>1.0</td>\n",
       "      <td>NaT</td>\n",
       "      <td>GRAVITY</td>\n",
       "      <td>Sewer Main</td>\n",
       "      <td>NaT</td>\n",
       "      <td>1.000000</td>\n",
       "      <td>2019-03-09 19:00:00</td>\n",
       "      <td>False</td>\n",
       "      <td>24.0</td>\n",
       "      <td>NaN</td>\n",
       "      <td>NaN</td>\n",
       "      <td>03/10/2019 09:36</td>\n",
       "      <td>03/10/2019 10:45</td>\n",
       "      <td>1.15</td>\n",
       "      <td>69.0</td>\n",
       "      <td>NaN</td>\n",
       "      <td>NaN</td>\n",
       "      <td>0.0</td>\n",
       "      <td>0.0</td>\n",
       "    </tr>\n",
       "  </tbody>\n",
       "</table>\n",
       "</div>"
      ],
      "text/plain": [
       "   SSO_ID   INSPKEY  SERVNO REPORTDATE  SPILL_ADDRESS     SPILL_ST_NAME  \\\n",
       "0    6582  567722.0     NaN 2019-03-10           3200  THOUSAND OAKS DR   \n",
       "1    6583  567723.0     NaN 2019-03-10           6804       S FLORES ST   \n",
       "2    6581  567714.0     NaN 2019-03-09            215   AUDREY ALENE DR   \n",
       "\n",
       "   TOTAL_GAL  GALSRET     GAL           SPILL_START            SPILL_STOP  \\\n",
       "0       2100   2100.0  2100.0  3/10/2019 1:16:00 PM  3/10/2019 2:40:00 PM   \n",
       "1         80      0.0    80.0  3/10/2019 2:25:00 PM  3/10/2019 3:45:00 PM   \n",
       "2         79      0.0    10.0   3/9/2019 6:00:00 PM   3/9/2019 7:30:00 PM   \n",
       "\n",
       "        HRS       CAUSE  \\\n",
       "0  1.400000      Grease   \n",
       "1  1.333333      Grease   \n",
       "2  1.500000  Structural   \n",
       "\n",
       "                                                                                               COMMENTS  \\\n",
       "0  Spill ContainedReturned to SystemArea Cleaned and DisinfectedFlushed Area with H2O, Unstopped Main,    \n",
       "1                                                           Spill ContainedArea Cleaned and Disinfected   \n",
       "2                    Spill ContainedArea Cleaned and DisinfectedFlushed Area with H2O, Unstopped Main,    \n",
       "\n",
       "        ACTIONS     WATERSHED UNITID UNITID2 DISCHARGE_TO DISCHARGE_ROUTE  \\\n",
       "0  CLEANED MAIN  SALADO CREEK  66918   66917       STREET            None   \n",
       "1  CLEANED MAIN      DOS RIOS  24250   24193   STORMDRAIN            None   \n",
       "2  CLEANED MAIN      DOS RIOS   2822    3351        ALLEY            None   \n",
       "\n",
       "   COUNCIL_DISTRICT FERGUSON  Month  Year  Week  EARZ_ZONE Expr1029  PIPEDIAM  \\\n",
       "0               NaN    172A2      3  2019    11        0.0      NaN       8.0   \n",
       "1               3.0    251A3      3  2019    11        0.0      NaN       8.0   \n",
       "2               1.0    190E4      3  2019    10        0.0      NaN       8.0   \n",
       "\n",
       "   PIPELEN PIPETYPE  INSTYEAR  DWNDPTH  UPSDPTH  Inches_No  RainFall_Less3  \\\n",
       "0    16.55      PVC    1997.0      NaN      NaN        NaN             NaN   \n",
       "1   157.00      PVC    1988.0      NaN      NaN        NaN             NaN   \n",
       "2   350.00       CP    1955.0      NaN      NaN        NaN             NaN   \n",
       "\n",
       "           SPILL ADDRESS SewerAssetExp  NUM_SPILLS_COMPKEY  NUM_SPILLS_24MOS  \\\n",
       "0  3200 THOUSAND OAKS DR           NaT                   1               1.0   \n",
       "1          6804 S FLORES           NaT                   1               1.0   \n",
       "2    215 Audrey Alene Dr           NaT                   1               1.0   \n",
       "\n",
       "  PREVSPILL_24MOS UNITTYPE   ASSETTYPE LASTCLND  ResponseTime  \\\n",
       "0             NaT  GRAVITY  Sewer Main      NaT      0.450000   \n",
       "1             NaT  GRAVITY  Sewer Main      NaT      1.083333   \n",
       "2             NaT  GRAVITY  Sewer Main      NaT      1.000000   \n",
       "\n",
       "         ResponseDTTM  Public Notice  TIMEINT Root_Cause STEPS_TO_PREVENT  \\\n",
       "0 2019-03-10 13:43:00          False     24.0        NaN              NaN   \n",
       "1 2019-03-10 15:30:00          False    120.0        NaN              NaN   \n",
       "2 2019-03-09 19:00:00          False     24.0        NaN              NaN   \n",
       "\n",
       "      SPILL_START_2      SPILL_STOP_2  HRS_2  GAL_2 SPILL_START_3  \\\n",
       "0               NaN               NaN   0.00    0.0           NaN   \n",
       "1               NaN               NaN   0.00    0.0           NaN   \n",
       "2  03/10/2019 09:36  03/10/2019 10:45   1.15   69.0           NaN   \n",
       "\n",
       "  SPILL_STOP_3  HRS_3  GAL_3  \n",
       "0          NaN    0.0    0.0  \n",
       "1          NaN    0.0    0.0  \n",
       "2          NaN    0.0    0.0  "
      ]
     },
     "execution_count": 8,
     "metadata": {},
     "output_type": "execute_result"
    }
   ],
   "source": [
    "# Read the excel file\n",
    "df = pd.read_excel('../data/in/SAWS_SSOs_2009-2018Mar_UploadData.xlsx')\n",
    "\n",
    "df.shape\n",
    "df.head(3)"
   ]
  },
  {
   "cell_type": "code",
   "execution_count": 9,
   "id": "modular-pricing",
   "metadata": {},
   "outputs": [],
   "source": [
    "# trim the dataframe to just the two columns that we need to make the street address\n",
    "df = df[['SPILL_ADDRESS', 'SPILL_ST_NAME']]\n",
    "\n",
    "# let's create a new column to hold the street address\n",
    "df['street_address'] = df['SPILL_ADDRESS'].map(str)+ ' ' + df['SPILL_ST_NAME']\n",
    "\n",
    "# let's get rid of unnecessary columns\n",
    "df.drop(columns=['SPILL_ADDRESS', 'SPILL_ST_NAME'], inplace=True)"
   ]
  },
  {
   "cell_type": "code",
   "execution_count": 16,
   "id": "recognized-joshua",
   "metadata": {},
   "outputs": [
    {
     "data": {
      "text/html": [
       "<div>\n",
       "<style scoped>\n",
       "    .dataframe tbody tr th:only-of-type {\n",
       "        vertical-align: middle;\n",
       "    }\n",
       "\n",
       "    .dataframe tbody tr th {\n",
       "        vertical-align: top;\n",
       "    }\n",
       "\n",
       "    .dataframe thead th {\n",
       "        text-align: right;\n",
       "    }\n",
       "</style>\n",
       "<table border=\"1\" class=\"dataframe\">\n",
       "  <thead>\n",
       "    <tr style=\"text-align: right;\">\n",
       "      <th></th>\n",
       "      <th>street_address</th>\n",
       "    </tr>\n",
       "  </thead>\n",
       "  <tbody>\n",
       "    <tr>\n",
       "      <th>0</th>\n",
       "      <td>3200 THOUSAND OAKS DR</td>\n",
       "    </tr>\n",
       "    <tr>\n",
       "      <th>1</th>\n",
       "      <td>6804 S FLORES ST</td>\n",
       "    </tr>\n",
       "    <tr>\n",
       "      <th>2</th>\n",
       "      <td>215 AUDREY ALENE DR</td>\n",
       "    </tr>\n",
       "    <tr>\n",
       "      <th>3</th>\n",
       "      <td>3602 SE MILITARY DR</td>\n",
       "    </tr>\n",
       "    <tr>\n",
       "      <th>4</th>\n",
       "      <td>100 PANSY LN</td>\n",
       "    </tr>\n",
       "  </tbody>\n",
       "</table>\n",
       "</div>"
      ],
      "text/plain": [
       "          street_address\n",
       "0  3200 THOUSAND OAKS DR\n",
       "1       6804 S FLORES ST\n",
       "2    215 AUDREY ALENE DR\n",
       "3    3602 SE MILITARY DR\n",
       "4           100 PANSY LN"
      ]
     },
     "execution_count": 16,
     "metadata": {},
     "output_type": "execute_result"
    }
   ],
   "source": [
    "df.head()"
   ]
  },
  {
   "cell_type": "code",
   "execution_count": 17,
   "id": "following-strike",
   "metadata": {},
   "outputs": [],
   "source": [
    "# let's transform to title case so it wouldn't scream as much\n",
    "df['street_address'] = df.street_address.str.title()"
   ]
  },
  {
   "cell_type": "code",
   "execution_count": 18,
   "id": "signal-print",
   "metadata": {},
   "outputs": [
    {
     "data": {
      "text/html": [
       "<div>\n",
       "<style scoped>\n",
       "    .dataframe tbody tr th:only-of-type {\n",
       "        vertical-align: middle;\n",
       "    }\n",
       "\n",
       "    .dataframe tbody tr th {\n",
       "        vertical-align: top;\n",
       "    }\n",
       "\n",
       "    .dataframe thead th {\n",
       "        text-align: right;\n",
       "    }\n",
       "</style>\n",
       "<table border=\"1\" class=\"dataframe\">\n",
       "  <thead>\n",
       "    <tr style=\"text-align: right;\">\n",
       "      <th></th>\n",
       "      <th>street_address</th>\n",
       "    </tr>\n",
       "  </thead>\n",
       "  <tbody>\n",
       "    <tr>\n",
       "      <th>0</th>\n",
       "      <td>3200 Thousand Oaks Dr</td>\n",
       "    </tr>\n",
       "    <tr>\n",
       "      <th>1</th>\n",
       "      <td>6804 S Flores St</td>\n",
       "    </tr>\n",
       "    <tr>\n",
       "      <th>2</th>\n",
       "      <td>215 Audrey Alene Dr</td>\n",
       "    </tr>\n",
       "    <tr>\n",
       "      <th>3</th>\n",
       "      <td>3602 Se Military Dr</td>\n",
       "    </tr>\n",
       "    <tr>\n",
       "      <th>4</th>\n",
       "      <td>100 Pansy Ln</td>\n",
       "    </tr>\n",
       "  </tbody>\n",
       "</table>\n",
       "</div>"
      ],
      "text/plain": [
       "          street_address\n",
       "0  3200 Thousand Oaks Dr\n",
       "1       6804 S Flores St\n",
       "2    215 Audrey Alene Dr\n",
       "3    3602 Se Military Dr\n",
       "4           100 Pansy Ln"
      ]
     },
     "execution_count": 18,
     "metadata": {},
     "output_type": "execute_result"
    }
   ],
   "source": [
    "df.head()"
   ]
  },
  {
   "cell_type": "code",
   "execution_count": 32,
   "id": "realistic-slovakia",
   "metadata": {},
   "outputs": [],
   "source": [
    "addresses = df.street_address"
   ]
  },
  {
   "cell_type": "code",
   "execution_count": 19,
   "id": "aware-regard",
   "metadata": {},
   "outputs": [],
   "source": [
    "def get_geocode(url):\n",
    "    \"\"\"\n",
    "    This function takes a url and returns a csv that\n",
    "    contains the lat and long of the provided\n",
    "    street address.\n",
    "    \"\"\"\n",
    "    response = get(url)\n",
    "    return response.text"
   ]
  },
  {
   "cell_type": "code",
   "execution_count": 22,
   "id": "grateful-liberty",
   "metadata": {},
   "outputs": [],
   "source": [
    "response = (get_geocode('https://www.mapquestapi.com/geocoding/v1/address?key=Zd5jr3WZm1PbGobgPDHzLz9LEFDaco1V&inFormat=kvp&outFormat=json&location=3403+Kildare+Ave&thumbMaps=false&delimiter=%2C'))\n",
    "\n",
    "obj = json.loads(response)\n",
    "zip_code = obj['results'][0]['locations'][0]['postalCode']\n",
    "lat = obj['results'][0]['locations'][0]['latLng']['lat']\n",
    "long = obj['results'][0]['locations'][0]['latLng']['lng']"
   ]
  },
  {
   "cell_type": "code",
   "execution_count": 25,
   "id": "renewable-longitude",
   "metadata": {},
   "outputs": [
    {
     "data": {
      "text/plain": [
       "{'info': {'statuscode': 0,\n",
       "  'copyright': {'text': '© 2021 MapQuest, Inc.',\n",
       "   'imageUrl': 'http://api.mqcdn.com/res/mqlogo.gif',\n",
       "   'imageAltText': '© 2021 MapQuest, Inc.'},\n",
       "  'messages': []},\n",
       " 'options': {'maxResults': -1, 'thumbMaps': False, 'ignoreLatLngInput': False},\n",
       " 'results': [{'providedLocation': {'location': '3403 Kildare Ave'},\n",
       "   'locations': [{'street': '3403 Kildare Ave',\n",
       "     'adminArea6': '',\n",
       "     'adminArea6Type': 'Neighborhood',\n",
       "     'adminArea5': 'San Antonio',\n",
       "     'adminArea5Type': 'City',\n",
       "     'adminArea4': 'Bexar',\n",
       "     'adminArea4Type': 'County',\n",
       "     'adminArea3': 'TX',\n",
       "     'adminArea3Type': 'State',\n",
       "     'adminArea1': 'US',\n",
       "     'adminArea1Type': 'Country',\n",
       "     'postalCode': '78223-2423',\n",
       "     'geocodeQualityCode': 'P1AAA',\n",
       "     'geocodeQuality': 'POINT',\n",
       "     'dragPoint': False,\n",
       "     'sideOfStreet': 'L',\n",
       "     'linkId': 'r43223937|p272882722|n58758857',\n",
       "     'unknownInput': '',\n",
       "     'type': 's',\n",
       "     'latLng': {'lat': 29.374482, 'lng': -98.433155},\n",
       "     'displayLatLng': {'lat': 29.374677, 'lng': -98.433085}}]}]}"
      ]
     },
     "execution_count": 25,
     "metadata": {},
     "output_type": "execute_result"
    }
   ],
   "source": [
    "obj"
   ]
  },
  {
   "cell_type": "code",
   "execution_count": 26,
   "id": "exclusive-trustee",
   "metadata": {},
   "outputs": [
    {
     "data": {
      "text/plain": [
       "'78223-2423'"
      ]
     },
     "execution_count": 26,
     "metadata": {},
     "output_type": "execute_result"
    }
   ],
   "source": [
    "zip_code"
   ]
  },
  {
   "cell_type": "code",
   "execution_count": 27,
   "id": "about-directive",
   "metadata": {},
   "outputs": [
    {
     "data": {
      "text/plain": [
       "29.374482"
      ]
     },
     "execution_count": 27,
     "metadata": {},
     "output_type": "execute_result"
    }
   ],
   "source": [
    "lat"
   ]
  },
  {
   "cell_type": "code",
   "execution_count": 28,
   "id": "floral-token",
   "metadata": {},
   "outputs": [
    {
     "data": {
      "text/plain": [
       "-98.433155"
      ]
     },
     "execution_count": 28,
     "metadata": {},
     "output_type": "execute_result"
    }
   ],
   "source": [
    "long"
   ]
  },
  {
   "cell_type": "code",
   "execution_count": 29,
   "id": "australian-headset",
   "metadata": {},
   "outputs": [],
   "source": [
    "def get_zip(url):\n",
    "    \"\"\"\n",
    "    This function takes a url with a street address on it\n",
    "    and returns the zip code for that address along with\n",
    "    latitude and longitude coordinates.\n",
    "    \"\"\"\n",
    "    response = (get_geocode(url))\n",
    "    obj = json.loads(response)\n",
    "    return  obj['results'][0]['locations'][0]['postalCode'], obj['results'][0]['locations'][0]['latLng']['lat'], obj['results'][0]['locations'][0]['latLng']['lng']"
   ]
  },
  {
   "cell_type": "code",
   "execution_count": 31,
   "id": "descending-secretary",
   "metadata": {},
   "outputs": [
    {
     "data": {
      "text/plain": [
       "('78223-2423', 29.374482, -98.433155)"
      ]
     },
     "execution_count": 31,
     "metadata": {},
     "output_type": "execute_result"
    }
   ],
   "source": [
    "get_zip('https://www.mapquestapi.com/geocoding/v1/address?key=Zd5jr3WZm1PbGobgPDHzLz9LEFDaco1V&inFormat=kvp&outFormat=json&location=3403+Kildare+Ave&thumbMaps=false&delimiter=%2C')"
   ]
  },
  {
   "cell_type": "code",
   "execution_count": 57,
   "id": "clean-rental",
   "metadata": {},
   "outputs": [
    {
     "data": {
      "text/plain": [
       "('78205-2425', 29.424957, -98.494629)"
      ]
     },
     "execution_count": 57,
     "metadata": {},
     "output_type": "execute_result"
    }
   ],
   "source": [
    "get_zip('https://www.mapquestapi.com/geocoding/v1/address?key=Zd5jr3WZm1PbGobgPDHzLz9LEFDaco1V&inFormat=kvp&outFormat=json&location=100+ Military+Plaza&thumbMaps=false&delimiter=%2C')"
   ]
  },
  {
   "cell_type": "code",
   "execution_count": 35,
   "id": "criminal-district",
   "metadata": {},
   "outputs": [],
   "source": [
    "list_addresses = []\n",
    "for address in addresses:\n",
    "    cleaned_address = address.replace(' ', '+')\n",
    "    url = 'https://www.mapquestapi.com/geocoding/v1/address?key=' + API_KEY + '&inFormat=kvp&outFormat=json&location=' + cleaned_address + '+San+Antonio+TX' + '&thumbMaps=false&delimiter=%2C'\n",
    "    list_addresses.append(get_zip(url))"
   ]
  },
  {
   "cell_type": "code",
   "execution_count": 40,
   "id": "behavioral-produce",
   "metadata": {},
   "outputs": [
    {
     "data": {
      "text/plain": [
       "[('78247-3317', 29.572974, -98.436752),\n",
       " ('78221-1902', 29.352534, -98.489222),\n",
       " ('78216-6610', 29.50326, -98.503986),\n",
       " ('78223-4582', 29.353559, -98.425234),\n",
       " ('78209', 29.487718, -98.435759),\n",
       " ('78210', 29.388004, -98.473421),\n",
       " ('78245-1147', 29.434926, -98.675149),\n",
       " ('78223-1367', 29.382693, -98.466861),\n",
       " ('78228-5806', 29.447661, -98.579132),\n",
       " ('78201-5445', 29.45436, -98.519284)]"
      ]
     },
     "execution_count": 40,
     "metadata": {},
     "output_type": "execute_result"
    }
   ],
   "source": [
    "list_addresses[:10]"
   ]
  },
  {
   "cell_type": "code",
   "execution_count": 45,
   "id": "little-mouse",
   "metadata": {},
   "outputs": [],
   "source": [
    "df_locations = pd.DataFrame()"
   ]
  },
  {
   "cell_type": "code",
   "execution_count": 46,
   "id": "historical-excess",
   "metadata": {},
   "outputs": [],
   "source": [
    "df_locations['addresses']  = addresses.tolist()"
   ]
  },
  {
   "cell_type": "code",
   "execution_count": 47,
   "id": "potential-initial",
   "metadata": {},
   "outputs": [
    {
     "data": {
      "text/html": [
       "<div>\n",
       "<style scoped>\n",
       "    .dataframe tbody tr th:only-of-type {\n",
       "        vertical-align: middle;\n",
       "    }\n",
       "\n",
       "    .dataframe tbody tr th {\n",
       "        vertical-align: top;\n",
       "    }\n",
       "\n",
       "    .dataframe thead th {\n",
       "        text-align: right;\n",
       "    }\n",
       "</style>\n",
       "<table border=\"1\" class=\"dataframe\">\n",
       "  <thead>\n",
       "    <tr style=\"text-align: right;\">\n",
       "      <th></th>\n",
       "      <th>addresses</th>\n",
       "    </tr>\n",
       "  </thead>\n",
       "  <tbody>\n",
       "    <tr>\n",
       "      <th>0</th>\n",
       "      <td>3200 Thousand Oaks Dr</td>\n",
       "    </tr>\n",
       "    <tr>\n",
       "      <th>1</th>\n",
       "      <td>6804 S Flores St</td>\n",
       "    </tr>\n",
       "    <tr>\n",
       "      <th>2</th>\n",
       "      <td>215 Audrey Alene Dr</td>\n",
       "    </tr>\n",
       "    <tr>\n",
       "      <th>3</th>\n",
       "      <td>3602 Se Military Dr</td>\n",
       "    </tr>\n",
       "    <tr>\n",
       "      <th>4</th>\n",
       "      <td>100 Pansy Ln</td>\n",
       "    </tr>\n",
       "    <tr>\n",
       "      <th>5</th>\n",
       "      <td>3200 S Hackberry St</td>\n",
       "    </tr>\n",
       "    <tr>\n",
       "      <th>6</th>\n",
       "      <td>9910 Sugarloaf Dr</td>\n",
       "    </tr>\n",
       "    <tr>\n",
       "      <th>7</th>\n",
       "      <td>3507 Piedmont Ave</td>\n",
       "    </tr>\n",
       "    <tr>\n",
       "      <th>8</th>\n",
       "      <td>349 Alicia</td>\n",
       "    </tr>\n",
       "    <tr>\n",
       "      <th>9</th>\n",
       "      <td>1502 W Mistletoe Ave</td>\n",
       "    </tr>\n",
       "  </tbody>\n",
       "</table>\n",
       "</div>"
      ],
      "text/plain": [
       "               addresses\n",
       "0  3200 Thousand Oaks Dr\n",
       "1       6804 S Flores St\n",
       "2    215 Audrey Alene Dr\n",
       "3    3602 Se Military Dr\n",
       "4           100 Pansy Ln\n",
       "5    3200 S Hackberry St\n",
       "6      9910 Sugarloaf Dr\n",
       "7      3507 Piedmont Ave\n",
       "8             349 Alicia\n",
       "9   1502 W Mistletoe Ave"
      ]
     },
     "execution_count": 47,
     "metadata": {},
     "output_type": "execute_result"
    }
   ],
   "source": [
    "df_locations.head(10)"
   ]
  },
  {
   "cell_type": "code",
   "execution_count": 48,
   "id": "impressed-executive",
   "metadata": {},
   "outputs": [],
   "source": [
    "df_temp = DataFrame.from_records(list_addresses)"
   ]
  },
  {
   "cell_type": "code",
   "execution_count": 53,
   "id": "color-player",
   "metadata": {
    "scrolled": true
   },
   "outputs": [
    {
     "data": {
      "text/html": [
       "<div>\n",
       "<style scoped>\n",
       "    .dataframe tbody tr th:only-of-type {\n",
       "        vertical-align: middle;\n",
       "    }\n",
       "\n",
       "    .dataframe tbody tr th {\n",
       "        vertical-align: top;\n",
       "    }\n",
       "\n",
       "    .dataframe thead th {\n",
       "        text-align: right;\n",
       "    }\n",
       "</style>\n",
       "<table border=\"1\" class=\"dataframe\">\n",
       "  <thead>\n",
       "    <tr style=\"text-align: right;\">\n",
       "      <th></th>\n",
       "      <th>0</th>\n",
       "      <th>1</th>\n",
       "      <th>2</th>\n",
       "    </tr>\n",
       "  </thead>\n",
       "  <tbody>\n",
       "    <tr>\n",
       "      <th>0</th>\n",
       "      <td>78247-3317</td>\n",
       "      <td>29.572974</td>\n",
       "      <td>-98.436752</td>\n",
       "    </tr>\n",
       "    <tr>\n",
       "      <th>1</th>\n",
       "      <td>78221-1902</td>\n",
       "      <td>29.352534</td>\n",
       "      <td>-98.489222</td>\n",
       "    </tr>\n",
       "    <tr>\n",
       "      <th>2</th>\n",
       "      <td>78216-6610</td>\n",
       "      <td>29.503260</td>\n",
       "      <td>-98.503986</td>\n",
       "    </tr>\n",
       "    <tr>\n",
       "      <th>3</th>\n",
       "      <td>78223-4582</td>\n",
       "      <td>29.353559</td>\n",
       "      <td>-98.425234</td>\n",
       "    </tr>\n",
       "    <tr>\n",
       "      <th>4</th>\n",
       "      <td>78209</td>\n",
       "      <td>29.487718</td>\n",
       "      <td>-98.435759</td>\n",
       "    </tr>\n",
       "  </tbody>\n",
       "</table>\n",
       "</div>"
      ],
      "text/plain": [
       "            0          1          2\n",
       "0  78247-3317  29.572974 -98.436752\n",
       "1  78221-1902  29.352534 -98.489222\n",
       "2  78216-6610  29.503260 -98.503986\n",
       "3  78223-4582  29.353559 -98.425234\n",
       "4       78209  29.487718 -98.435759"
      ]
     },
     "execution_count": 53,
     "metadata": {},
     "output_type": "execute_result"
    }
   ],
   "source": [
    "df_temp.head()"
   ]
  },
  {
   "cell_type": "code",
   "execution_count": 50,
   "id": "lonely-couple",
   "metadata": {},
   "outputs": [],
   "source": [
    "df_locations['zip']  = df_temp[0].tolist()\n",
    "df_locations['lat']  = df_temp[1].tolist()\n",
    "df_locations['long']  = df_temp[2].tolist()"
   ]
  },
  {
   "cell_type": "code",
   "execution_count": 52,
   "id": "accomplished-nightmare",
   "metadata": {},
   "outputs": [
    {
     "data": {
      "text/html": [
       "<div>\n",
       "<style scoped>\n",
       "    .dataframe tbody tr th:only-of-type {\n",
       "        vertical-align: middle;\n",
       "    }\n",
       "\n",
       "    .dataframe tbody tr th {\n",
       "        vertical-align: top;\n",
       "    }\n",
       "\n",
       "    .dataframe thead th {\n",
       "        text-align: right;\n",
       "    }\n",
       "</style>\n",
       "<table border=\"1\" class=\"dataframe\">\n",
       "  <thead>\n",
       "    <tr style=\"text-align: right;\">\n",
       "      <th></th>\n",
       "      <th>addresses</th>\n",
       "      <th>zip</th>\n",
       "      <th>lat</th>\n",
       "      <th>long</th>\n",
       "    </tr>\n",
       "  </thead>\n",
       "  <tbody>\n",
       "    <tr>\n",
       "      <th>0</th>\n",
       "      <td>3200 Thousand Oaks Dr</td>\n",
       "      <td>78247-3317</td>\n",
       "      <td>29.572974</td>\n",
       "      <td>-98.436752</td>\n",
       "    </tr>\n",
       "    <tr>\n",
       "      <th>1</th>\n",
       "      <td>6804 S Flores St</td>\n",
       "      <td>78221-1902</td>\n",
       "      <td>29.352534</td>\n",
       "      <td>-98.489222</td>\n",
       "    </tr>\n",
       "    <tr>\n",
       "      <th>2</th>\n",
       "      <td>215 Audrey Alene Dr</td>\n",
       "      <td>78216-6610</td>\n",
       "      <td>29.503260</td>\n",
       "      <td>-98.503986</td>\n",
       "    </tr>\n",
       "    <tr>\n",
       "      <th>3</th>\n",
       "      <td>3602 Se Military Dr</td>\n",
       "      <td>78223-4582</td>\n",
       "      <td>29.353559</td>\n",
       "      <td>-98.425234</td>\n",
       "    </tr>\n",
       "    <tr>\n",
       "      <th>4</th>\n",
       "      <td>100 Pansy Ln</td>\n",
       "      <td>78209</td>\n",
       "      <td>29.487718</td>\n",
       "      <td>-98.435759</td>\n",
       "    </tr>\n",
       "  </tbody>\n",
       "</table>\n",
       "</div>"
      ],
      "text/plain": [
       "               addresses         zip        lat       long\n",
       "0  3200 Thousand Oaks Dr  78247-3317  29.572974 -98.436752\n",
       "1       6804 S Flores St  78221-1902  29.352534 -98.489222\n",
       "2    215 Audrey Alene Dr  78216-6610  29.503260 -98.503986\n",
       "3    3602 Se Military Dr  78223-4582  29.353559 -98.425234\n",
       "4           100 Pansy Ln       78209  29.487718 -98.435759"
      ]
     },
     "execution_count": 52,
     "metadata": {},
     "output_type": "execute_result"
    }
   ],
   "source": [
    "df_locations.head()"
   ]
  },
  {
   "cell_type": "code",
   "execution_count": 54,
   "id": "golden-dealer",
   "metadata": {},
   "outputs": [],
   "source": [
    "df_locations.to_csv('../data/out/geocodes.csv')"
   ]
  }
 ],
 "metadata": {
  "kernelspec": {
   "display_name": "Python 3",
   "language": "python",
   "name": "python3"
  },
  "language_info": {
   "codemirror_mode": {
    "name": "ipython",
    "version": 3
   },
   "file_extension": ".py",
   "mimetype": "text/x-python",
   "name": "python",
   "nbconvert_exporter": "python",
   "pygments_lexer": "ipython3",
   "version": "3.7.9"
  }
 },
 "nbformat": 4,
 "nbformat_minor": 5
}
